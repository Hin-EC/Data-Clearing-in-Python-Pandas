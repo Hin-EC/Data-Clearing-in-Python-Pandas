{
 "cells": [
  {
   "cell_type": "code",
   "execution_count": null,
   "id": "198f8691-631e-4d1a-b11a-b6e6d4f97dd5",
   "metadata": {},
   "outputs": [],
   "source": [
    "import pandas as pd\n",
    "import numpy as np\n",
    "\n",
    "# the summary how to do the data clear\n",
    "# remove and replace null\n",
    "# remove duplicated row\n",
    "# remove outlier\n",
    "# change data type\n",
    "# replace 0 by mean and mean with out 0"
   ]
  },
  {
   "cell_type": "code",
   "execution_count": null,
   "id": "bfc4a5d9-0036-4b7c-a3fe-a5866578ed1d",
   "metadata": {},
   "outputs": [],
   "source": [
    "#import dataset\n",
    "df = pd.read_csv(\"file.csv\")"
   ]
  },
  {
   "cell_type": "code",
   "execution_count": null,
   "id": "e5015e0e-efa1-4483-bc4e-6754e03f9a09",
   "metadata": {},
   "outputs": [],
   "source": [
    "# null value clearing"
   ]
  },
  {
   "cell_type": "code",
   "execution_count": null,
   "id": "2f57482c-df32-4f75-a67b-37a1daddc1c3",
   "metadata": {},
   "outputs": [],
   "source": [
    "# observe null in different row\n",
    "df.isnull().sum()"
   ]
  },
  {
   "cell_type": "code",
   "execution_count": null,
   "id": "08630d1d-9a5b-49e9-b2b5-68f5223ab7e7",
   "metadata": {},
   "outputs": [],
   "source": [
    "# give the informcation of dataset\n",
    "df.info()"
   ]
  },
  {
   "cell_type": "code",
   "execution_count": null,
   "id": "dfbfeefd-6dc3-4f8c-8f56-b39661660ebd",
   "metadata": {},
   "outputs": [],
   "source": [
    "# Remove row containing Null\n",
    "new_df = df.dropna()\n",
    "new_df.isnull().sum()"
   ]
  },
  {
   "cell_type": "code",
   "execution_count": null,
   "id": "bacd83bf-773f-420c-bc71-f6107984c3fb",
   "metadata": {},
   "outputs": [],
   "source": []
  },
  {
   "cell_type": "code",
   "execution_count": null,
   "id": "457e4812-5863-4d47-b62a-ab5fc9552668",
   "metadata": {},
   "outputs": [],
   "source": [
    "# update specific cell\n",
    "new_df.loc[index,'column1'] = 0"
   ]
  },
  {
   "cell_type": "code",
   "execution_count": null,
   "id": "12ff1bc4-7114-4012-829c-ea48829349a4",
   "metadata": {},
   "outputs": [],
   "source": []
  },
  {
   "cell_type": "code",
   "execution_count": null,
   "id": "7ce4422b-7abb-43bc-84b7-b47168ae07fb",
   "metadata": {},
   "outputs": [],
   "source": [
    "#replace all null value by 0\n",
    "new_df = df.fillna(0)\n",
    "new_df"
   ]
  },
  {
   "cell_type": "code",
   "execution_count": null,
   "id": "27d35cd1-0246-42d9-b1f4-9efc47ef2004",
   "metadata": {},
   "outputs": [],
   "source": [
    "#replace null value in specific column\n",
    "new_df = df\n",
    "new_df['column1'] = new_df['column1'].fillna('value')\n",
    "new_df"
   ]
  },
  {
   "cell_type": "code",
   "execution_count": null,
   "id": "3e6175b9-1e31-485e-8832-53d84de56534",
   "metadata": {},
   "outputs": [],
   "source": [
    "#replace null value in batch\n",
    "ReplaceList = {'column1':'value1','column2':'value2'}\n",
    "new_df = df.fillna(value = ReplaceList)\n",
    "new_df"
   ]
  },
  {
   "cell_type": "code",
   "execution_count": null,
   "id": "812b901d-c859-4014-bd56-30fb7da6eb35",
   "metadata": {},
   "outputs": [],
   "source": [
    "# replace by mean, mode or value\n",
    "# confirm the need 0 value in calculation\n",
    "\n",
    "new_df = df\n",
    "# if 0 will affect the value, replace it by Null before calculation\n",
    "new_df['column1'] = new_df['column1'].replace(0, np.nan)\n",
    "\n",
    "# calculate the mean and round it to 2 diecimals place\n",
    "ColMean = round(new_df['column1'].mean(), 2)\n",
    "\n",
    "# calculate the mode and median\n",
    "ColMode = new_df['column1'].mode()\n",
    "ColMedian = new_df['column1'].median()\n",
    "\n",
    "\n",
    "# replace the null value by mean or other \n",
    "new_df['column1'] = new_df['column1'].replace(np.nan, ColMean)\n"
   ]
  },
  {
   "cell_type": "code",
   "execution_count": null,
   "id": "c5fecebc-7e6b-44bf-9e3b-fb92d21c6917",
   "metadata": {},
   "outputs": [],
   "source": []
  },
  {
   "cell_type": "code",
   "execution_count": null,
   "id": "64163a12-5055-47f3-92f7-c6b74cf86313",
   "metadata": {},
   "outputs": [],
   "source": [
    "#confirm the datatype\n",
    "df.info()"
   ]
  },
  {
   "cell_type": "code",
   "execution_count": null,
   "id": "48248a1a-4b9d-4e49-bb61-8877b59425bc",
   "metadata": {},
   "outputs": [],
   "source": [
    "# update datatype int, float, str, datetime\n",
    "df1 = df1.astype({'column1': 'int','column2':'str'})\n",
    "df1.dtypes"
   ]
  },
  {
   "cell_type": "code",
   "execution_count": null,
   "id": "aa6ae675-fb4e-4127-8103-1041aa0deed4",
   "metadata": {},
   "outputs": [],
   "source": [
    "# Wrong datetime format\n",
    "df['datecolumn'] = pd.to_datetime(df['datecolumn'])"
   ]
  },
  {
   "cell_type": "code",
   "execution_count": null,
   "id": "31a8bff4-852b-44a2-81bc-338c663d22f9",
   "metadata": {},
   "outputs": [],
   "source": []
  },
  {
   "cell_type": "code",
   "execution_count": null,
   "id": "ba9dbc8b-630a-47e7-9b77-935b61bafb54",
   "metadata": {},
   "outputs": [],
   "source": []
  },
  {
   "cell_type": "code",
   "execution_count": null,
   "id": "daf3302a-4e1e-4d12-b2ff-1e73e05fd516",
   "metadata": {},
   "outputs": [],
   "source": [
    "# observe the  duplicate  row"
   ]
  },
  {
   "cell_type": "code",
   "execution_count": null,
   "id": "e1c632e8-5ed4-4851-8d9b-adafa2c154f8",
   "metadata": {},
   "outputs": [],
   "source": [
    "#give a boolean list for duplicated row in specific column\n",
    "df.duplicated()"
   ]
  },
  {
   "cell_type": "code",
   "execution_count": null,
   "id": "e660b518-0f27-4846-a266-e5ea9f47942c",
   "metadata": {},
   "outputs": [],
   "source": [
    "#give a list of duplicated row\n",
    "df[df.duplicated()]"
   ]
  },
  {
   "cell_type": "code",
   "execution_count": null,
   "id": "e509ec74-9386-4b2b-93a7-2c444ca8b8ec",
   "metadata": {},
   "outputs": [],
   "source": [
    "# observe the sum of duplicate in different row\n",
    "print(df.duplicated().sum())"
   ]
  },
  {
   "cell_type": "code",
   "execution_count": null,
   "id": "d169420e-5cbc-41b3-a98a-0706fba4d8fd",
   "metadata": {},
   "outputs": [],
   "source": [
    "#remove duplicated row\n",
    "new_df = df.drop_duplicates()\n",
    "new_df"
   ]
  },
  {
   "cell_type": "code",
   "execution_count": null,
   "id": "c57cc9b1-44f8-49cc-8ca2-fb68a1d9980c",
   "metadata": {},
   "outputs": [],
   "source": []
  },
  {
   "cell_type": "code",
   "execution_count": null,
   "id": "4ed738f5-c876-40ff-8368-bcb403f33845",
   "metadata": {},
   "outputs": [],
   "source": [
    "#remove outlier by IQR interquartile range\n",
    "#outlier = value > (Q3 + 1.5 *IQR) or value < (Q1 -1.5 *IQR) \n",
    "#IQR = Q3 -Q1\n",
    "Q1 = df['value column'].quantile(0.25)\n",
    "Q3 = df['value column'].quantile(0.75)\n",
    "IQR = Q3 - Q1\n",
    "condition = (df['value column'] < (Q3 + 1.5 *IQR)) & (df['value column'] > (Q1 -1.5 *IQR))\n",
    "New_df = df[condition]\n",
    "New_df\n"
   ]
  },
  {
   "cell_type": "code",
   "execution_count": null,
   "id": "c69990bf-bc06-4900-b973-ef878779cdd0",
   "metadata": {},
   "outputs": [],
   "source": []
  },
  {
   "cell_type": "code",
   "execution_count": null,
   "id": "0f9d4b6f-cf6a-48a7-a280-15eb96799ea5",
   "metadata": {},
   "outputs": [],
   "source": []
  }
 ],
 "metadata": {
  "kernelspec": {
   "display_name": "Python 3 (ipykernel)",
   "language": "python",
   "name": "python3"
  },
  "language_info": {
   "codemirror_mode": {
    "name": "ipython",
    "version": 3
   },
   "file_extension": ".py",
   "mimetype": "text/x-python",
   "name": "python",
   "nbconvert_exporter": "python",
   "pygments_lexer": "ipython3",
   "version": "3.13.2"
  }
 },
 "nbformat": 4,
 "nbformat_minor": 5
}
